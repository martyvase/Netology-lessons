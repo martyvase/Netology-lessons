{
 "cells": [
  {
   "cell_type": "markdown",
   "id": "7b49e8de",
   "metadata": {},
   "source": [
    "#Необходим скрипт для подбора упаковок по размерам товара. Используйте следующие правила:\n",
    "• если ширина, длина и высота менее 15 сантиметров, то выведите на экран \"Коробка No1\"\n",
    "• если хотя бы один из габаритов больше 15см, но менее 50см, то выводите \"Коробка No2\"\n",
    "• если длина товара больше 2 метров, то вывести \"ищите упаковку для лыж\"\n",
    "• во всех остальных случаях пишите \"Стандартная коробка Ne3*"
   ]
  },
  {
   "cell_type": "code",
   "execution_count": 26,
   "id": "8fa949a5",
   "metadata": {},
   "outputs": [
    {
     "name": "stdout",
     "output_type": "stream",
     "text": [
      "Введите длинну15\n",
      "Введите ширину15\n",
      "Введите высоту90\n",
      "Стандартная коробка №3\n",
      "Конец программы\n"
     ]
    }
   ],
   "source": [
    "width = int(input(\"Введите длинну\"))\n",
    "lenght = int (input(\"Введите ширину\"))\n",
    "height = int(input(\"Введите высоту\"))\n",
    "if (width <= 15) and (lenght <= 15) and (height <= 15):\n",
    "    print (\"Коробка #1\")\n",
    "elif (width > 15 and width <= 50) or (lenght > 15 and lenght <= 50) or (height > 15 and height <= 50):\n",
    "    print (\"Коробока №2\")\n",
    "else: \n",
    "    print(\"Стандартная коробка №3\")\n",
    "print (\"Конец программы\")    "
   ]
  },
  {
   "cell_type": "code",
   "execution_count": null,
   "id": "3cf3fca1",
   "metadata": {},
   "outputs": [],
   "source": []
  },
  {
   "cell_type": "code",
   "execution_count": null,
   "id": "c594ef0e",
   "metadata": {},
   "outputs": [],
   "source": []
  }
 ],
 "metadata": {
  "kernelspec": {
   "display_name": "Python 3 (ipykernel)",
   "language": "python",
   "name": "python3"
  },
  "language_info": {
   "codemirror_mode": {
    "name": "ipython",
    "version": 3
   },
   "file_extension": ".py",
   "mimetype": "text/x-python",
   "name": "python",
   "nbconvert_exporter": "python",
   "pygments_lexer": "ipython3",
   "version": "3.9.13"
  }
 },
 "nbformat": 4,
 "nbformat_minor": 5
}
